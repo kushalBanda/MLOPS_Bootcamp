{
 "cells": [
  {
   "cell_type": "code",
   "execution_count": null,
   "metadata": {},
   "outputs": [
    {
     "name": "stdout",
     "output_type": "stream",
     "text": [
      "Collecting mlflow\n",
      "  Downloading mlflow-2.18.0-py3-none-any.whl.metadata (29 kB)\n",
      "Collecting mlflow-skinny==2.18.0 (from mlflow)\n",
      "  Downloading mlflow_skinny-2.18.0-py3-none-any.whl.metadata (30 kB)\n",
      "Requirement already satisfied: Flask<4 in /Users/kushalbanda/miniconda3/envs/Image_Captioning/lib/python3.11/site-packages (from mlflow) (3.0.2)\n",
      "Requirement already satisfied: alembic!=1.10.0,<2 in /Users/kushalbanda/miniconda3/envs/Image_Captioning/lib/python3.11/site-packages (from mlflow) (1.13.1)\n",
      "Collecting docker<8,>=4.0.0 (from mlflow)\n",
      "  Using cached docker-7.1.0-py3-none-any.whl.metadata (3.8 kB)\n",
      "Collecting graphene<4 (from mlflow)\n",
      "  Downloading graphene-3.4.3-py2.py3-none-any.whl.metadata (6.9 kB)\n",
      "Requirement already satisfied: markdown<4,>=3.3 in /Users/kushalbanda/miniconda3/envs/Image_Captioning/lib/python3.11/site-packages (from mlflow) (3.4.4)\n",
      "Requirement already satisfied: matplotlib<4 in /Users/kushalbanda/miniconda3/envs/Image_Captioning/lib/python3.11/site-packages (from mlflow) (3.7.2)\n",
      "Requirement already satisfied: numpy<3 in /Users/kushalbanda/miniconda3/envs/Image_Captioning/lib/python3.11/site-packages (from mlflow) (1.24.4)\n",
      "Requirement already satisfied: pandas<3 in /Users/kushalbanda/miniconda3/envs/Image_Captioning/lib/python3.11/site-packages (from mlflow) (2.2.0)\n",
      "Requirement already satisfied: pyarrow<19,>=4.0.0 in /Users/kushalbanda/miniconda3/envs/Image_Captioning/lib/python3.11/site-packages (from mlflow) (14.0.1)\n",
      "Requirement already satisfied: scikit-learn<2 in /Users/kushalbanda/miniconda3/envs/Image_Captioning/lib/python3.11/site-packages (from mlflow) (1.3.1)\n",
      "Requirement already satisfied: scipy<2 in /Users/kushalbanda/miniconda3/envs/Image_Captioning/lib/python3.11/site-packages (from mlflow) (1.10.1)\n",
      "Requirement already satisfied: sqlalchemy<3,>=1.4.0 in /Users/kushalbanda/miniconda3/envs/Image_Captioning/lib/python3.11/site-packages (from mlflow) (2.0.28)\n",
      "Requirement already satisfied: Jinja2<4,>=2.11 in /Users/kushalbanda/miniconda3/envs/Image_Captioning/lib/python3.11/site-packages (from mlflow) (3.1.3)\n",
      "Collecting gunicorn<24 (from mlflow)\n",
      "  Downloading gunicorn-23.0.0-py3-none-any.whl.metadata (4.4 kB)\n",
      "Requirement already satisfied: cachetools<6,>=5.0.0 in /Users/kushalbanda/miniconda3/envs/Image_Captioning/lib/python3.11/site-packages (from mlflow-skinny==2.18.0->mlflow) (5.3.1)\n",
      "Requirement already satisfied: click<9,>=7.0 in /Users/kushalbanda/miniconda3/envs/Image_Captioning/lib/python3.11/site-packages (from mlflow-skinny==2.18.0->mlflow) (8.1.7)\n",
      "Requirement already satisfied: cloudpickle<4 in /Users/kushalbanda/miniconda3/envs/Image_Captioning/lib/python3.11/site-packages (from mlflow-skinny==2.18.0->mlflow) (3.0.0)\n",
      "Collecting databricks-sdk<1,>=0.20.0 (from mlflow-skinny==2.18.0->mlflow)\n",
      "  Downloading databricks_sdk-0.38.0-py3-none-any.whl.metadata (38 kB)\n",
      "Requirement already satisfied: gitpython<4,>=3.1.9 in /Users/kushalbanda/miniconda3/envs/Image_Captioning/lib/python3.11/site-packages (from mlflow-skinny==2.18.0->mlflow) (3.1.40)\n",
      "Requirement already satisfied: importlib-metadata!=4.7.0,<9,>=3.7.0 in /Users/kushalbanda/miniconda3/envs/Image_Captioning/lib/python3.11/site-packages (from mlflow-skinny==2.18.0->mlflow) (6.8.0)\n",
      "Requirement already satisfied: opentelemetry-api<3,>=1.9.0 in /Users/kushalbanda/miniconda3/envs/Image_Captioning/lib/python3.11/site-packages (from mlflow-skinny==2.18.0->mlflow) (1.23.0)\n",
      "Requirement already satisfied: opentelemetry-sdk<3,>=1.9.0 in /Users/kushalbanda/miniconda3/envs/Image_Captioning/lib/python3.11/site-packages (from mlflow-skinny==2.18.0->mlflow) (1.23.0)\n",
      "Requirement already satisfied: packaging<25 in /Users/kushalbanda/miniconda3/envs/Image_Captioning/lib/python3.11/site-packages (from mlflow-skinny==2.18.0->mlflow) (23.2)\n",
      "Requirement already satisfied: protobuf<6,>=3.12.0 in /Users/kushalbanda/miniconda3/envs/Image_Captioning/lib/python3.11/site-packages (from mlflow-skinny==2.18.0->mlflow) (3.20.1)\n",
      "Requirement already satisfied: pyyaml<7,>=5.1 in /Users/kushalbanda/miniconda3/envs/Image_Captioning/lib/python3.11/site-packages (from mlflow-skinny==2.18.0->mlflow) (6.0.1)\n",
      "Requirement already satisfied: requests<3,>=2.17.3 in /Users/kushalbanda/miniconda3/envs/Image_Captioning/lib/python3.11/site-packages (from mlflow-skinny==2.18.0->mlflow) (2.31.0)\n",
      "Collecting sqlparse<1,>=0.4.0 (from mlflow-skinny==2.18.0->mlflow)\n",
      "  Downloading sqlparse-0.5.2-py3-none-any.whl.metadata (3.9 kB)\n",
      "Requirement already satisfied: Mako in /Users/kushalbanda/miniconda3/envs/Image_Captioning/lib/python3.11/site-packages (from alembic!=1.10.0,<2->mlflow) (1.3.2)\n",
      "Requirement already satisfied: typing-extensions>=4 in /Users/kushalbanda/miniconda3/envs/Image_Captioning/lib/python3.11/site-packages (from alembic!=1.10.0,<2->mlflow) (4.9.0)\n",
      "Requirement already satisfied: urllib3>=1.26.0 in /Users/kushalbanda/miniconda3/envs/Image_Captioning/lib/python3.11/site-packages (from docker<8,>=4.0.0->mlflow) (1.26.18)\n",
      "Requirement already satisfied: Werkzeug>=3.0.0 in /Users/kushalbanda/miniconda3/envs/Image_Captioning/lib/python3.11/site-packages (from Flask<4->mlflow) (3.0.1)\n",
      "Requirement already satisfied: itsdangerous>=2.1.2 in /Users/kushalbanda/miniconda3/envs/Image_Captioning/lib/python3.11/site-packages (from Flask<4->mlflow) (2.1.2)\n",
      "Requirement already satisfied: blinker>=1.6.2 in /Users/kushalbanda/miniconda3/envs/Image_Captioning/lib/python3.11/site-packages (from Flask<4->mlflow) (1.7.0)\n",
      "Collecting graphql-core<3.3,>=3.1 (from graphene<4->mlflow)\n",
      "  Downloading graphql_core-3.2.5-py3-none-any.whl.metadata (10 kB)\n",
      "Collecting graphql-relay<3.3,>=3.1 (from graphene<4->mlflow)\n",
      "  Downloading graphql_relay-3.2.0-py3-none-any.whl.metadata (12 kB)\n",
      "Requirement already satisfied: python-dateutil<3,>=2.7.0 in /Users/kushalbanda/miniconda3/envs/Image_Captioning/lib/python3.11/site-packages (from graphene<4->mlflow) (2.8.2)\n",
      "Requirement already satisfied: MarkupSafe>=2.0 in /Users/kushalbanda/miniconda3/envs/Image_Captioning/lib/python3.11/site-packages (from Jinja2<4,>=2.11->mlflow) (2.1.5)\n",
      "Requirement already satisfied: contourpy>=1.0.1 in /Users/kushalbanda/miniconda3/envs/Image_Captioning/lib/python3.11/site-packages (from matplotlib<4->mlflow) (1.2.0)\n",
      "Requirement already satisfied: cycler>=0.10 in /Users/kushalbanda/miniconda3/envs/Image_Captioning/lib/python3.11/site-packages (from matplotlib<4->mlflow) (0.12.1)\n",
      "Requirement already satisfied: fonttools>=4.22.0 in /Users/kushalbanda/miniconda3/envs/Image_Captioning/lib/python3.11/site-packages (from matplotlib<4->mlflow) (4.49.0)\n",
      "Requirement already satisfied: kiwisolver>=1.0.1 in /Users/kushalbanda/miniconda3/envs/Image_Captioning/lib/python3.11/site-packages (from matplotlib<4->mlflow) (1.4.5)\n",
      "Requirement already satisfied: pillow>=6.2.0 in /Users/kushalbanda/miniconda3/envs/Image_Captioning/lib/python3.11/site-packages (from matplotlib<4->mlflow) (10.2.0)\n",
      "Requirement already satisfied: pyparsing<3.1,>=2.3.1 in /Users/kushalbanda/miniconda3/envs/Image_Captioning/lib/python3.11/site-packages (from matplotlib<4->mlflow) (3.0.9)\n",
      "Requirement already satisfied: pytz>=2020.1 in /Users/kushalbanda/miniconda3/envs/Image_Captioning/lib/python3.11/site-packages (from pandas<3->mlflow) (2024.1)\n",
      "Requirement already satisfied: tzdata>=2022.7 in /Users/kushalbanda/miniconda3/envs/Image_Captioning/lib/python3.11/site-packages (from pandas<3->mlflow) (2024.1)\n",
      "Requirement already satisfied: joblib>=1.1.1 in /Users/kushalbanda/miniconda3/envs/Image_Captioning/lib/python3.11/site-packages (from scikit-learn<2->mlflow) (1.3.2)\n",
      "Requirement already satisfied: threadpoolctl>=2.0.0 in /Users/kushalbanda/miniconda3/envs/Image_Captioning/lib/python3.11/site-packages (from scikit-learn<2->mlflow) (3.2.0)\n",
      "Requirement already satisfied: google-auth~=2.0 in /Users/kushalbanda/miniconda3/envs/Image_Captioning/lib/python3.11/site-packages (from databricks-sdk<1,>=0.20.0->mlflow-skinny==2.18.0->mlflow) (2.28.2)\n",
      "Requirement already satisfied: gitdb<5,>=4.0.1 in /Users/kushalbanda/miniconda3/envs/Image_Captioning/lib/python3.11/site-packages (from gitpython<4,>=3.1.9->mlflow-skinny==2.18.0->mlflow) (4.0.11)\n",
      "Requirement already satisfied: zipp>=0.5 in /Users/kushalbanda/miniconda3/envs/Image_Captioning/lib/python3.11/site-packages (from importlib-metadata!=4.7.0,<9,>=3.7.0->mlflow-skinny==2.18.0->mlflow) (3.17.0)\n",
      "Requirement already satisfied: deprecated>=1.2.6 in /Users/kushalbanda/miniconda3/envs/Image_Captioning/lib/python3.11/site-packages (from opentelemetry-api<3,>=1.9.0->mlflow-skinny==2.18.0->mlflow) (1.2.14)\n",
      "Requirement already satisfied: opentelemetry-semantic-conventions==0.44b0 in /Users/kushalbanda/miniconda3/envs/Image_Captioning/lib/python3.11/site-packages (from opentelemetry-sdk<3,>=1.9.0->mlflow-skinny==2.18.0->mlflow) (0.44b0)\n",
      "Requirement already satisfied: six>=1.5 in /Users/kushalbanda/miniconda3/envs/Image_Captioning/lib/python3.11/site-packages (from python-dateutil<3,>=2.7.0->graphene<4->mlflow) (1.16.0)\n",
      "Requirement already satisfied: charset-normalizer<4,>=2 in /Users/kushalbanda/miniconda3/envs/Image_Captioning/lib/python3.11/site-packages (from requests<3,>=2.17.3->mlflow-skinny==2.18.0->mlflow) (3.3.2)\n",
      "Requirement already satisfied: idna<4,>=2.5 in /Users/kushalbanda/miniconda3/envs/Image_Captioning/lib/python3.11/site-packages (from requests<3,>=2.17.3->mlflow-skinny==2.18.0->mlflow) (3.6)\n",
      "Requirement already satisfied: certifi>=2017.4.17 in /Users/kushalbanda/miniconda3/envs/Image_Captioning/lib/python3.11/site-packages (from requests<3,>=2.17.3->mlflow-skinny==2.18.0->mlflow) (2024.2.2)\n",
      "Requirement already satisfied: wrapt<2,>=1.10 in /Users/kushalbanda/miniconda3/envs/Image_Captioning/lib/python3.11/site-packages (from deprecated>=1.2.6->opentelemetry-api<3,>=1.9.0->mlflow-skinny==2.18.0->mlflow) (1.16.0)\n",
      "Requirement already satisfied: smmap<6,>=3.0.1 in /Users/kushalbanda/miniconda3/envs/Image_Captioning/lib/python3.11/site-packages (from gitdb<5,>=4.0.1->gitpython<4,>=3.1.9->mlflow-skinny==2.18.0->mlflow) (5.0.1)\n",
      "Requirement already satisfied: pyasn1-modules>=0.2.1 in /Users/kushalbanda/miniconda3/envs/Image_Captioning/lib/python3.11/site-packages (from google-auth~=2.0->databricks-sdk<1,>=0.20.0->mlflow-skinny==2.18.0->mlflow) (0.3.0)\n",
      "Requirement already satisfied: rsa<5,>=3.1.4 in /Users/kushalbanda/miniconda3/envs/Image_Captioning/lib/python3.11/site-packages (from google-auth~=2.0->databricks-sdk<1,>=0.20.0->mlflow-skinny==2.18.0->mlflow) (4.7.2)\n",
      "Requirement already satisfied: pyasn1<0.6.0,>=0.4.6 in /Users/kushalbanda/miniconda3/envs/Image_Captioning/lib/python3.11/site-packages (from pyasn1-modules>=0.2.1->google-auth~=2.0->databricks-sdk<1,>=0.20.0->mlflow-skinny==2.18.0->mlflow) (0.5.0)\n",
      "Downloading mlflow-2.18.0-py3-none-any.whl (27.3 MB)\n",
      "\u001b[2K   \u001b[90m━━━━━━━━━━━━━━━━━━━━━━━━━━━━━━━━━━━━━━━━\u001b[0m \u001b[32m27.3/27.3 MB\u001b[0m \u001b[31m10.0 MB/s\u001b[0m eta \u001b[36m0:00:00\u001b[0m00:01\u001b[0m00:01\u001b[0m\n",
      "\u001b[?25hDownloading mlflow_skinny-2.18.0-py3-none-any.whl (5.8 MB)\n",
      "\u001b[2K   \u001b[90m━━━━━━━━━━━━━━━━━━━━━━━━━━━━━━━━━━━━━━━━\u001b[0m \u001b[32m5.8/5.8 MB\u001b[0m \u001b[31m10.1 MB/s\u001b[0m eta \u001b[36m0:00:00\u001b[0ma \u001b[36m0:00:01\u001b[0m\n",
      "\u001b[?25hUsing cached docker-7.1.0-py3-none-any.whl (147 kB)\n",
      "Downloading graphene-3.4.3-py2.py3-none-any.whl (114 kB)\n",
      "\u001b[2K   \u001b[90m━━━━━━━━━━━━━━━━━━━━━━━━━━━━━━━━━━━━━━━━\u001b[0m \u001b[32m114.9/114.9 kB\u001b[0m \u001b[31m5.0 MB/s\u001b[0m eta \u001b[36m0:00:00\u001b[0m\n",
      "\u001b[?25hDownloading gunicorn-23.0.0-py3-none-any.whl (85 kB)\n",
      "\u001b[2K   \u001b[90m━━━━━━━━━━━━━━━━━━━━━━━━━━━━━━━━━━━━━━━━\u001b[0m \u001b[32m85.0/85.0 kB\u001b[0m \u001b[31m5.0 MB/s\u001b[0m eta \u001b[36m0:00:00\u001b[0m\n",
      "\u001b[?25hDownloading databricks_sdk-0.38.0-py3-none-any.whl (575 kB)\n",
      "\u001b[2K   \u001b[90m━━━━━━━━━━━━━━━━━━━━━━━━━━━━━━━━━━━━━━━━\u001b[0m \u001b[32m575.1/575.1 kB\u001b[0m \u001b[31m9.0 MB/s\u001b[0m eta \u001b[36m0:00:00\u001b[0mta \u001b[36m0:00:01\u001b[0m\n",
      "\u001b[?25hDownloading graphql_core-3.2.5-py3-none-any.whl (203 kB)\n",
      "\u001b[2K   \u001b[90m━━━━━━━━━━━━━━━━━━━━━━━━━━━━━━━━━━━━━━━━\u001b[0m \u001b[32m203.2/203.2 kB\u001b[0m \u001b[31m8.8 MB/s\u001b[0m eta \u001b[36m0:00:00\u001b[0m\n",
      "\u001b[?25hDownloading graphql_relay-3.2.0-py3-none-any.whl (16 kB)\n",
      "Downloading sqlparse-0.5.2-py3-none-any.whl (44 kB)\n",
      "\u001b[2K   \u001b[90m━━━━━━━━━━━━━━━━━━━━━━━━━━━━━━━━━━━━━━━━\u001b[0m \u001b[32m44.4/44.4 kB\u001b[0m \u001b[31m4.8 MB/s\u001b[0m eta \u001b[36m0:00:00\u001b[0m\n",
      "\u001b[?25hInstalling collected packages: sqlparse, gunicorn, graphql-core, graphql-relay, docker, graphene, databricks-sdk, mlflow-skinny, mlflow\n",
      "  Attempting uninstall: docker\n",
      "    Found existing installation: docker 3.4.0\n",
      "    Uninstalling docker-3.4.0:\n",
      "      Successfully uninstalled docker-3.4.0\n",
      "\u001b[31mERROR: pip's dependency resolver does not currently take into account all the packages that are installed. This behaviour is the source of the following dependency conflicts.\n",
      "yolo 0.3.2 requires docker==3.4.0, but you have docker 7.1.0 which is incompatible.\n",
      "yolo 0.3.2 requires keyring==8.7.0, but you have keyring 24.3.1 which is incompatible.\u001b[0m\u001b[31m\n",
      "\u001b[0mSuccessfully installed databricks-sdk-0.38.0 docker-7.1.0 graphene-3.4.3 graphql-core-3.2.5 graphql-relay-3.2.0 gunicorn-23.0.0 mlflow-2.18.0 mlflow-skinny-2.18.0 sqlparse-0.5.2\n",
      "\n",
      "\u001b[1m[\u001b[0m\u001b[34;49mnotice\u001b[0m\u001b[1;39;49m]\u001b[0m\u001b[39;49m A new release of pip is available: \u001b[0m\u001b[31;49m24.0\u001b[0m\u001b[39;49m -> \u001b[0m\u001b[32;49m24.3.1\u001b[0m\n",
      "\u001b[1m[\u001b[0m\u001b[34;49mnotice\u001b[0m\u001b[1;39;49m]\u001b[0m\u001b[39;49m To update, run: \u001b[0m\u001b[32;49mpip install --upgrade pip\u001b[0m\n"
     ]
    }
   ],
   "source": [
    "# !pip install mlflow"
   ]
  },
  {
   "cell_type": "code",
   "execution_count": 3,
   "metadata": {},
   "outputs": [],
   "source": [
    "import mlflow"
   ]
  },
  {
   "cell_type": "code",
   "execution_count": 8,
   "metadata": {},
   "outputs": [
    {
     "name": "stdout",
     "output_type": "stream",
     "text": [
      "🏃 View run smiling-fox-876 at: http://127.0.0.1:5555/#/experiments/237723192182731417/runs/e1e071e89593482abd8e6b4d28f1d411\n",
      "🧪 View experiment at: http://127.0.0.1:5555/#/experiments/237723192182731417\n"
     ]
    }
   ],
   "source": [
    "mlflow.set_tracking_uri(\"http://127.0.0.1:5555\")\n",
    "try:\n",
    "    mlflow.set_experiment(\"Check localHost Connection\")\n",
    "\n",
    "    with mlflow.start_run():\n",
    "        mlflow.log_metric(\"test\", 1)\n",
    "        mlflow.log_metric(\"Kushal\", 2)\n",
    "except Exception as e:\n",
    "    print(f\"Error occurred: {e}\")\n"
   ]
  }
 ],
 "metadata": {
  "kernelspec": {
   "display_name": "Image_Captioning",
   "language": "python",
   "name": "python3"
  },
  "language_info": {
   "codemirror_mode": {
    "name": "ipython",
    "version": 3
   },
   "file_extension": ".py",
   "mimetype": "text/x-python",
   "name": "python",
   "nbconvert_exporter": "python",
   "pygments_lexer": "ipython3",
   "version": "3.11.4"
  }
 },
 "nbformat": 4,
 "nbformat_minor": 2
}
